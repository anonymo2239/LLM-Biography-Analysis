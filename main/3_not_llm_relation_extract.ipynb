{
 "cells": [
  {
   "cell_type": "code",
   "execution_count": 1,
   "id": "5ef03de6",
   "metadata": {},
   "outputs": [],
   "source": [
    "import json\n",
    "from tqdm import tqdm\n",
    "\n",
    "with open(\"structured_bios_new_english_fixed.json\", \"r\", encoding=\"utf-8\") as f:\n",
    "    people = json.load(f)"
   ]
  },
  {
   "cell_type": "code",
   "execution_count": 2,
   "id": "5154c84b",
   "metadata": {},
   "outputs": [],
   "source": [
    "def years_overlap(y1, y2):\n",
    "    \"\"\"iki yıl aralığı çakışıyor mu (örn: 2005-2010 vs 2008-2012)\"\"\"\n",
    "    try:\n",
    "        s1, e1 = [int(y) for y in y1.split(\"-\")]\n",
    "        s2, e2 = [int(y) for y in y2.split(\"-\")]\n",
    "        return max(s1, s2) <= min(e1, e2)\n",
    "    except:\n",
    "        return False\n"
   ]
  },
  {
   "cell_type": "code",
   "execution_count": 3,
   "id": "1efb4844",
   "metadata": {},
   "outputs": [
    {
     "name": "stderr",
     "output_type": "stream",
     "text": [
      "100%|██████████| 243/243 [00:01<00:00, 239.59it/s]\n"
     ]
    }
   ],
   "source": [
    "results = []\n",
    "\n",
    "for i in tqdm(range(len(people))):\n",
    "    for j in range(i + 1, len(people)):\n",
    "        p1 = people[i]\n",
    "        p2 = people[j]\n",
    "        rels = []\n",
    "\n",
    "        # AYNI_MEMLEKETTEN\n",
    "        if p1[\"dogum_yeri\"] == p2[\"dogum_yeri\"]:\n",
    "            rels.append(\"AYNI_MEMLEKETTEN\")\n",
    "\n",
    "        # OKUL ilişkileri (ve yıl çakışması)\n",
    "        for okul, yil in [(\"ilkokul\", \"ilkokul_yillari\"), (\"lise\", \"lise_yillari\"),\n",
    "                          (\"universite\", \"universite_yillari\"), (\"yuksek_lisans\", \"yuksek_lisans_yillari\"),\n",
    "                          (\"doktora\", \"doktora_yillari\")]:\n",
    "            if p1.get(okul) and p1.get(okul) == p2.get(okul):\n",
    "                if p1.get(yil) and p2.get(yil) and years_overlap(p1[yil], p2[yil]):\n",
    "                    rel_ad = okul.upper() + \"_ARKADASI\"\n",
    "                    rels.append(rel_ad)\n",
    "\n",
    "        # MESLEKTAŞ\n",
    "        if p1.get(\"bolum\") and p1.get(\"bolum\") == p2.get(\"bolum\"):\n",
    "            rels.append(\"MESLEKTAS\")\n",
    "\n",
    "        # AYNI_KURUMDA_CALISMIŞ\n",
    "        ortak_kurum = set(p1.get(\"calistigi_kurumlar\", [])) & set(p2.get(\"calistigi_kurumlar\", []))\n",
    "        if ortak_kurum:\n",
    "            rels.append(\"AYNI_KURUMDA_CALISMIS\")\n",
    "\n",
    "        # ILGI_ALANI_ORTAKLIĞI\n",
    "        if set(p1.get(\"hobiler\", [])) & set(p2.get(\"hobiler\", [])):\n",
    "            rels.append(\"ILGI_ALANI_ORTAKLIGI\")\n",
    "\n",
    "        if rels:\n",
    "            results.append({\n",
    "                \"source\": p1[\"ad\"],\n",
    "                \"target\": p2[\"ad\"],\n",
    "                \"relations\": rels\n",
    "            })\n"
   ]
  },
  {
   "cell_type": "code",
   "execution_count": 4,
   "id": "fbaaf5a9",
   "metadata": {},
   "outputs": [
    {
     "name": "stdout",
     "output_type": "stream",
     "text": [
      "13867 ilişki bulundu.\n"
     ]
    }
   ],
   "source": [
    "# Sonuçları kaydet\n",
    "with open(\"automated_relationships.json\", \"w\", encoding=\"utf-8\") as f:\n",
    "    json.dump(results, f, ensure_ascii=False, indent=2)\n",
    "\n",
    "print(f\"{len(results)} ilişki bulundu.\")"
   ]
  }
 ],
 "metadata": {
  "kernelspec": {
   "display_name": "llm_doc_env",
   "language": "python",
   "name": "python3"
  },
  "language_info": {
   "codemirror_mode": {
    "name": "ipython",
    "version": 3
   },
   "file_extension": ".py",
   "mimetype": "text/x-python",
   "name": "python",
   "nbconvert_exporter": "python",
   "pygments_lexer": "ipython3",
   "version": "3.13.5"
  }
 },
 "nbformat": 4,
 "nbformat_minor": 5
}
