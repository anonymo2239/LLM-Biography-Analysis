{
 "cells": [
  {
   "cell_type": "code",
   "execution_count": null,
   "id": "17fa9100",
   "metadata": {},
   "outputs": [],
   "source": [
    "import os\n",
    "from dotenv import load_dotenv\n",
    "from openai import OpenAI\n",
    "from langchain.schema import Document\n",
    "from langchain_openai import OpenAIEmbeddings, ChatOpenAI\n",
    "from langchain_chroma import Chroma\n",
    "import json\n",
    "import numpy as np\n",
    "from sklearn.metrics.pairwise import cosine_similarity\n",
    "from tqdm import tqdm\n",
    "from langchain_text_splitters import RecursiveJsonSplitter"
   ]
  },
  {
   "cell_type": "code",
   "execution_count": 2,
   "id": "45a64417",
   "metadata": {},
   "outputs": [],
   "source": [
    "MODEL = \"gpt-4o-mini\"\n",
    "json_path = \"C:/Users/aalperen.arda/Documents/GitHub/LLM-Biography-Analysis/main/structured_bios_new_english_fixed.json\""
   ]
  },
  {
   "cell_type": "code",
   "execution_count": null,
   "id": "e0c5a1b2",
   "metadata": {},
   "outputs": [
    {
     "name": "stdout",
     "output_type": "stream",
     "text": [
      "243 adet Document oluşturuldu.\n",
      "{\"ad\": \"Ahmet Doğan\", \"dogum_yeri\": \"Kayseri\", \"dogum_tarihi\": \"15.03.1988\", \"yas\": 37, \"ilkokul\": \"Hacı Bektaş-ı Veli İlkokulu\", \"ilkokul_yillari\": \"1994-2002\", \"lise\": \"Ankara Fen Lisesi\", \"lise_yillari\": \"2002-2006\", \"universite\": \"Orta Doğu Teknik Üniversitesi (ODTÜ)\", \"universite_yillari\": \"2006-2010\", \"bolum\": \"Bilgisayar Mühendisliği\", \"yuksek_lisans\": \"Koç Üniversitesi\", \"yuksek_lisans_yillari\": \"2010-2012\", \"doktora\": null, \"doktora_yillari\": null, \"calistigi_kurumlar\": [\"ASELSAN\", \"SAP Türkiye\", \"Artemis Yazılım\"], \"calisma_yillari\": [\"2010-2014\", \"2014-2017\", \"2017-devam ediyor\"], \"kurdugu_girisim_ve_dernekler\": [\"Artemis Yazılım\"], \"girisim_kurulus_yillari\": [\"2017\"], \"yasadigi_sehir\": \"İstanbul\", \"hobiler\": [\"Tarihi roman okumak\", \"amatör drone fotoğrafçılığı\", \"bağlama çalmak\", \"açık kaynak yazılım projelerine katkıda bulunmak\"], \"es\": \"Elif Doğan\", \"cocuklar\": [\"Deniz Doğan\", \"Ada Doğan\"], \"akademik_yayinlar\": [], \"yayin_yillari\": [], \"dosya_adi\": \"ahmet_dogan.md\"}\n"
     ]
    }
   ],
   "source": [
    "documents = []\n",
    "\n",
    "with open(json_path, \"r\", encoding=\"utf-8\") as f:\n",
    "    json_data = json.load(f)\n",
    "\n",
    "for person in json_data:\n",
    "    content = json.dumps(person, ensure_ascii=False)\n",
    "    doc = Document(page_content=content, metadata={\"ad\": person[\"ad\"]})\n",
    "    documents.append(doc)"
   ]
  },
  {
   "cell_type": "code",
   "execution_count": null,
   "id": "f64494ae",
   "metadata": {},
   "outputs": [
    {
     "data": {
      "text/plain": [
       "'text_splitter = CharacterTextSplitter(chunk_size=1000, chunk_overlap=100)\\nchunks = text_splitter.split_documents(documents)\\n\\nprint(f\"{len(chunks)} adet chunk oluşturuldu.\")'"
      ]
     },
     "execution_count": 10,
     "metadata": {},
     "output_type": "execute_result"
    }
   ],
   "source": [
    "'''text_splitter = CharacterTextSplitter(chunk_size=1000, chunk_overlap=100)\n",
    "chunks = text_splitter.split_documents(documents)\n",
    "\n",
    "print(f\"{len(chunks)} adet chunk oluşturuldu.\")'''\n",
    "\n",
    "# chunk oluşturmaya gerek yok, zaten tüm doc elementler yeterince küçük"
   ]
  },
  {
   "cell_type": "code",
   "execution_count": null,
   "id": "7619524a",
   "metadata": {},
   "outputs": [],
   "source": [
    "embeddings = OpenAIEmbeddings()\n",
    "persist_dir = \"C:/Users/aalperen.arda/Documents/GitHub/LLM-Biography-Analysis/main/chroma_vector_store\"\n",
    "\n",
    "vectorstore = Chroma.from_documents(\n",
    "    documents=documents,\n",
    "    embedding=embeddings,\n",
    "    persist_directory=persist_dir\n",
    ")"
   ]
  },
  {
   "cell_type": "code",
   "execution_count": 19,
   "id": "45b36b56",
   "metadata": {},
   "outputs": [],
   "source": [
    "data = vectorstore._collection.get(include=[\"embeddings\", \"documents\", \"metadatas\"])\n",
    "\n",
    "embeddings = data[\"embeddings\"]\n",
    "texts = data[\"documents\"]\n",
    "names = [m.get(\"ad\", f\"doc_{i}\") for i, m in enumerate(data[\"metadatas\"])]"
   ]
  },
  {
   "cell_type": "code",
   "execution_count": 24,
   "id": "3b521e2d",
   "metadata": {},
   "outputs": [
    {
     "name": "stdout",
     "output_type": "stream",
     "text": [
      "5404 benzersiz çift eşleştirmesi üretildi.\n"
     ]
    }
   ],
   "source": [
    "X = np.array(embeddings)\n",
    "\n",
    "cos_sim_matrix = cosine_similarity(X)\n",
    "\n",
    "k_word = 30\n",
    "pairs = set()\n",
    "\n",
    "for i in range(len(cos_sim_matrix)):\n",
    "    top_indices = np.argsort(cos_sim_matrix[i])[::-1][1:k_word + 1]\n",
    "    \n",
    "    for j in top_indices:\n",
    "        pair = tuple(sorted((i, j)))\n",
    "        pairs.add(pair) \n",
    "\n",
    "print(f\"{len(pairs)} benzersiz çift eşleştirmesi üretildi.\")"
   ]
  },
  {
   "cell_type": "code",
   "execution_count": null,
   "id": "50b93e8a",
   "metadata": {},
   "outputs": [],
   "source": [
    "client = OpenAI()\n",
    "relationship_results = []\n",
    "\n",
    "for i, j in tqdm(pairs, desc=\"LLM ile ilişki çıkarılıyor\"):\n",
    "    prompt = f\"\"\"\n",
    "Aşağıdaki iki kişinin biyografisine dayanarak, aralarında hangi ilişkiler olabilir? Yalnızca aşağıdaki seçeneklerden uygun olanları belirt:\n",
    "\n",
    "- AYNI_MEMLEKETTEN\n",
    "- OKUL_ARKADAŞI\n",
    "- MESLEKTAŞ\n",
    "- YOK\n",
    "\n",
    "Sadece ilişki adlarını virgülle yaz.\n",
    "\n",
    "Kişi 1:\n",
    "{texts[i]}\n",
    "\n",
    "Kişi 2:\n",
    "{texts[j]}\n",
    "\"\"\"\n",
    "    try:\n",
    "        response = client.chat.completions.create(\n",
    "            model=\"gpt-4o\",\n",
    "            messages=[{\"role\": \"user\", \"content\": prompt}],\n",
    "            temperature=0\n",
    "        )\n",
    "\n",
    "        result = response.choices[0].message.content.strip().upper()\n",
    "        relations = [r.strip() for r in result.split(\",\") if r and r != \"YOK\"]\n",
    "\n",
    "        for rel in relations:\n",
    "            relationship_results.append({\n",
    "                \"source\": names[i],\n",
    "                \"target\": names[j],\n",
    "                \"relation\": rel\n",
    "            })\n",
    "\n",
    "    except Exception as e:\n",
    "        print(f\"HATA ({names[i]} ↔ {names[j]}):\", e)"
   ]
  },
  {
   "cell_type": "code",
   "execution_count": null,
   "id": "986909a7",
   "metadata": {},
   "outputs": [],
   "source": [
    "output_path = os.path.join(persist_dir, \"llm_relationships.json\")\n",
    "with open(output_path, \"w\", encoding=\"utf-8\") as f:\n",
    "    json.dump(relationship_results, f, ensure_ascii=False, indent=2)\n",
    "\n",
    "print(f\"{len(relationship_results)} adet ilişki çıkarıldı ve kaydedildi → {output_path}\")"
   ]
  }
 ],
 "metadata": {
  "kernelspec": {
   "display_name": "llm_doc_env",
   "language": "python",
   "name": "python3"
  },
  "language_info": {
   "codemirror_mode": {
    "name": "ipython",
    "version": 3
   },
   "file_extension": ".py",
   "mimetype": "text/x-python",
   "name": "python",
   "nbconvert_exporter": "python",
   "pygments_lexer": "ipython3",
   "version": "3.13.5"
  }
 },
 "nbformat": 4,
 "nbformat_minor": 5
}
