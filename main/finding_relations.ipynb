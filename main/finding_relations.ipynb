{
 "cells": [
  {
   "cell_type": "code",
   "execution_count": 25,
   "id": "4f6f9de8",
   "metadata": {},
   "outputs": [],
   "source": [
    "import os\n",
    "from dotenv import load_dotenv\n",
    "from langchain.document_loaders import DirectoryLoader, TextLoader\n",
    "from langchain.text_splitter import CharacterTextSplitter\n",
    "from langchain.schema import Document\n",
    "from langchain_openai import OpenAIEmbeddings, ChatOpenAI\n",
    "from langchain_chroma import Chroma\n",
    "import numpy as np"
   ]
  },
  {
   "cell_type": "code",
   "execution_count": 28,
   "id": "8589d27d",
   "metadata": {},
   "outputs": [
    {
     "name": "stderr",
     "output_type": "stream",
     "text": [
      "<>:8: SyntaxWarning: invalid escape sequence '\\S'\n",
      "<>:8: SyntaxWarning: invalid escape sequence '\\S'\n",
      "C:\\Users\\aalperen.arda\\AppData\\Local\\Temp\\ipykernel_14940\\1399878530.py:8: SyntaxWarning: invalid escape sequence '\\S'\n",
      "  characters = len(re.findall('\\S', text))\n"
     ]
    },
    {
     "name": "stdout",
     "output_type": "stream",
     "text": [
      "The average number of these documents: 4623.135231316726\n"
     ]
    }
   ],
   "source": [
    "import re\n",
    "\n",
    "sayi = 0\n",
    "\n",
    "for file in os.listdir(\"dataset\"):\n",
    "    with open(f'dataset/{file}') as f:\n",
    "        text = f.read()\n",
    "        characters = len(re.findall('\\S', text))\n",
    "    sayi += characters\n",
    "\n",
    "average = sayi / 281\n",
    "print(f\"The average number of these documents: {average}\")"
   ]
  },
  {
   "cell_type": "code",
   "execution_count": 4,
   "id": "55d78726",
   "metadata": {},
   "outputs": [],
   "source": [
    "MODEL = \"gpt-4o-mini\"\n",
    "db_name = \"C:/Users/aalperen.arda/Documents/GitHub/LLM-Biography-Analysis/main/json_output\""
   ]
  },
  {
   "cell_type": "code",
   "execution_count": 5,
   "id": "79c8e7d9",
   "metadata": {},
   "outputs": [],
   "source": [
    "load_dotenv(override=True)\n",
    "os.environ['OPENAI_API_KEY'] = os.getenv('OPENAI_API_KEY', 'your-key-if-not-using-env')"
   ]
  },
  {
   "cell_type": "code",
   "execution_count": 6,
   "id": "fe697abf",
   "metadata": {},
   "outputs": [],
   "source": [
    "text_loader_kwargs = {'encoding': 'utf-8'}\n",
    "documents = []\n",
    "\n",
    "for file in os.listdir(db_name):\n",
    "    path = os.path.join(db_name, file)\n",
    "    loader = TextLoader(path, **text_loader_kwargs)\n",
    "    docs = loader.load()\n",
    "    for doc in docs:\n",
    "        doc.metadata[\"doc_type\"] = os.path.splitext(file)[0]  # dosya adı\n",
    "        documents.append(doc)"
   ]
  },
  {
   "cell_type": "code",
   "execution_count": 31,
   "id": "d551494f",
   "metadata": {},
   "outputs": [],
   "source": [
    "text_splitter = CharacterTextSplitter(chunk_size=500, chunk_overlap=70)\n",
    "chunks = text_splitter.split_documents(documents)"
   ]
  },
  {
   "cell_type": "code",
   "execution_count": 32,
   "id": "e0e92752",
   "metadata": {},
   "outputs": [
    {
     "data": {
      "text/plain": [
       "281"
      ]
     },
     "execution_count": 32,
     "metadata": {},
     "output_type": "execute_result"
    }
   ],
   "source": [
    "len(chunks)"
   ]
  },
  {
   "cell_type": "code",
   "execution_count": 34,
   "id": "d3d495af",
   "metadata": {},
   "outputs": [
    {
     "name": "stdout",
     "output_type": "stream",
     "text": [
      "Vectorstore created with 281 documents\n"
     ]
    }
   ],
   "source": [
    "embeddings = OpenAIEmbeddings()\n",
    "\n",
    "vectorstore = Chroma.from_documents(documents=chunks, embedding=embeddings, persist_directory=db_name)\n",
    "print(f\"Vectorstore created with {vectorstore._collection.count()} documents\")"
   ]
  },
  {
   "cell_type": "code",
   "execution_count": 49,
   "id": "b1c881ad",
   "metadata": {},
   "outputs": [
    {
     "name": "stdout",
     "output_type": "stream",
     "text": [
      "{\n",
      "  \"ad\": \"Alperen Gökmen\",\n",
      "  \"dogum_yeri\": \"Konya\",\n",
      "  \"dogum_tarihi\": \"12.05.1985\",\n",
      "  \"ilkokul\": null,\n",
      "  \"lise\": \"Konya Anadolu Lisesi\",\n",
      "  \"universite\": \"Orta Doğu Teknik Üniversitesi\",\n",
      "  \"bolum\": \"Elektrik-Elektronik Mühendisliği\",\n",
      "  \"yuksek_lisans\": null,\n",
      "  \"doktora\": null,\n",
      "  \"calistigi_kurumlar\": [\"TechNest\"],\n",
      "  \"kurdugu_girisim_ve_dernekler\": [\"TechNest\", \"Genç Mühendisler İçin Teknoloji Atölyesi\"],\n",
      "  \"yasadigi_sehir\": \"Konya\",\n",
      "  \"hobiler\": [\"robotik projeler\", \"doğa yürüyüşleri\", \"kitap okumak\", \"bilim projeleri geliştirmek\"],\n",
      "  \"es\": \"Selin Çelik\",\n",
      "  \"cocuklar\": [\"Oğul\", \"Kız\"],\n",
      "  \"akademik_yayinlar\": [\"Enerji Verimliliği İçin Akıllı Sistemler\", \"Akıllı Şehirler İçin Enerji Yönetim Sistemleri\"],\n",
      "  \"dosya_adi\": \"alperen_gokmen.md\"\n",
      "}\n"
     ]
    }
   ],
   "source": [
    "# Vectorstore'un çalışıp çalışmadığını test edin\n",
    "query = \"alperen gökmen\"\n",
    "results = vectorstore.similarity_search(query, k=1)\n",
    "for result in results:\n",
    "    print(result.page_content[:])"
   ]
  },
  {
   "cell_type": "code",
   "execution_count": null,
   "id": "cb0428b7",
   "metadata": {},
   "outputs": [],
   "source": []
  }
 ],
 "metadata": {
  "kernelspec": {
   "display_name": "llm_doc_env",
   "language": "python",
   "name": "python3"
  },
  "language_info": {
   "codemirror_mode": {
    "name": "ipython",
    "version": 3
   },
   "file_extension": ".py",
   "mimetype": "text/x-python",
   "name": "python",
   "nbconvert_exporter": "python",
   "pygments_lexer": "ipython3",
   "version": "3.13.5"
  }
 },
 "nbformat": 4,
 "nbformat_minor": 5
}
