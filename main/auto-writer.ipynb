{
 "cells": [
  {
   "cell_type": "code",
   "execution_count": 1,
   "id": "667fcea6",
   "metadata": {},
   "outputs": [],
   "source": [
    "import os\n",
    "from dotenv import load_dotenv\n",
    "from IPython.display import Markdown, display\n",
    "import openai"
   ]
  },
  {
   "cell_type": "code",
   "execution_count": 2,
   "id": "22202ee8",
   "metadata": {},
   "outputs": [
    {
     "name": "stdout",
     "output_type": "stream",
     "text": [
      "API key found and looks good so far!\n"
     ]
    }
   ],
   "source": [
    "load_dotenv(override=True)\n",
    "api_key = os.getenv('OPENAI_API_KEY')\n",
    "\n",
    "if not api_key:\n",
    "    print(\"No API key was found - please head over to the troubleshooting notebook in this folder to identify & fix!\")\n",
    "else:\n",
    "    print(\"API key found and looks good so far!\")"
   ]
  },
  {
   "cell_type": "code",
   "execution_count": null,
   "id": "e30abd18",
   "metadata": {},
   "outputs": [
    {
     "name": "stderr",
     "output_type": "stream",
     "text": [
      "<>:1: SyntaxWarning: invalid escape sequence '\\L'\n",
      "<>:1: SyntaxWarning: invalid escape sequence '\\L'\n",
      "C:\\Users\\aalperen.arda\\AppData\\Local\\Temp\\ipykernel_412\\658463086.py:1: SyntaxWarning: invalid escape sequence '\\L'\n",
      "  output_dir = \"..\\LLM-Biography-Analysis\\main\\dataset\"\n"
     ]
    }
   ],
   "source": [
    "output_dir = \"C:/Users/aalperen.arda/Documents/GitHub/LLM-Biography-Analysis/main/dataset\"\n",
    "os.makedirs(output_dir, exist_ok=True)"
   ]
  },
  {
   "cell_type": "code",
   "execution_count": 4,
   "id": "5ba86812",
   "metadata": {},
   "outputs": [],
   "source": [
    "system_prompt = \"\"\"\n",
    "Sen biyografik veriler üreten uzman bir yapay zekasın.\n",
    "\n",
    "Amacımız, biyografik dokümanları analiz eden ve kişiler arasında ilişki kurabilen bir LLM modeli geliştirmek. Bu nedenle senin görevin:\n",
    "\n",
    "1. Her çağrıldığında, özgün ve kurgusal bir kişinin detaylı kişisel biyografisini oluşturmak.\n",
    "2. Bu kişi, önceki karakterlerle doğrudan ilişkili olmasın ama dolaylı bağlantılar kurulabilecek şekilde aynı şehirde doğmuş, aynı üniversitede okumuş, benzer alanlarda çalışmış olabilir.\n",
    "3. Her biyografi aşağıdaki başlıklardan oluşmalı:\n",
    "   - Erken Yaşam ve Kökler\n",
    "   - Eğitim Yılları\n",
    "   - Profesyonel Kariyer\n",
    "   - Girişimcilik / Akademik Çalışmalar (varsa, olmak zorunda değil)\n",
    "   - Sosyal Sorumluluk ve Etkiler\n",
    "   - Kişisel Yaşam\n",
    "   - Mevcut Çalışmalar ve Gelecek Hedefler\n",
    "4. Biyografi dili: Kurumsal, bilgilendirici, detaylı, tutarlı olmalı.\n",
    "5. Uzunluk: Yaklaşık 10000 karakterlik detaylı metin üret. Yaklaşık 3 Word sayfası uzunluğunda olmalı ve bu isteri olabildiğince dikkate al.\n",
    "\n",
    "İşte örnek bir yapı (sadece başlık ve stil göstermek için):\n",
    "\n",
    "# [AD SOYAD]\n",
    "## Kişisel Biyografi\n",
    "\n",
    "### Erken Yaşam ve Kökler\n",
    "...\n",
    "\n",
    "### Eğitim Yılları\n",
    "...\n",
    "\n",
    "### Profesyonel Kariyer\n",
    "...\n",
    "\n",
    "Lütfen yukarıdaki yapıyı takip ederek farklı bir karakter için tamamen özgün bir biyografi üret.\n",
    "\"\"\"\n"
   ]
  },
  {
   "cell_type": "code",
   "execution_count": null,
   "id": "61962789",
   "metadata": {},
   "outputs": [
    {
     "name": "stdout",
     "output_type": "stream",
     "text": [
      "1. biyografi kaydedildi → ..\\LLM-Biography-Analysis\\main\\dataset\\leyla_arslan.md\n"
     ]
    }
   ],
   "source": [
    "for i in range(1, 51):\n",
    "    response = openai.chat.completions.create(\n",
    "        model=\"gpt-4o\",\n",
    "        messages=[\n",
    "            {\"role\": \"system\", \"content\": system_prompt},\n",
    "            {\"role\": \"user\", \"content\": \"Şimdi, daha önce oluşturduklarından farklı, özgün bir kişi için detaylı bir kişisel biyografi yaz. Aynı yapı ve uzunlukta olsun. Lütfen önceki karakterlerle doğrudan bağlantılı olmasın ama dolaylı ilişkiler kurulabilecek öğeler (aynı şehir, okul, alan gibi) içerebilir.\"}\n",
    "        ],\n",
    "        temperature=0.7\n",
    "    )\n",
    "\n",
    "    metin = response.choices[0].message.content\n",
    "    lines = metin.split('\\n')\n",
    "    name = lines[0]\n",
    "    name = name.lower()[2:].replace(' ', '_')\n",
    "    dosya_yolu = os.path.join(output_dir, f\"{name}.md\")\n",
    "\n",
    "    with open(dosya_yolu, \"w\", encoding=\"utf-8\") as f:\n",
    "        f.write(metin)\n",
    "    \n",
    "    print(f\"{i}. biyografi kaydedildi → {dosya_yolu}\")"
   ]
  },
  {
   "cell_type": "code",
   "execution_count": null,
   "id": "a28db46f",
   "metadata": {},
   "outputs": [],
   "source": []
  }
 ],
 "metadata": {
  "kernelspec": {
   "display_name": "llm_doc_env",
   "language": "python",
   "name": "python3"
  },
  "language_info": {
   "codemirror_mode": {
    "name": "ipython",
    "version": 3
   },
   "file_extension": ".py",
   "mimetype": "text/x-python",
   "name": "python",
   "nbconvert_exporter": "python",
   "pygments_lexer": "ipython3",
   "version": "3.13.5"
  }
 },
 "nbformat": 4,
 "nbformat_minor": 5
}
