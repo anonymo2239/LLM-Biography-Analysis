{
 "cells": [
  {
   "cell_type": "code",
   "execution_count": 1,
   "id": "4f6f9de8",
   "metadata": {},
   "outputs": [],
   "source": [
    "import os\n",
    "from dotenv import load_dotenv\n",
    "from langchain.document_loaders import DirectoryLoader, TextLoader\n",
    "from langchain.text_splitter import CharacterTextSplitter\n",
    "from langchain.schema import Document\n",
    "from langchain_openai import OpenAIEmbeddings, ChatOpenAI\n",
    "from langchain_chroma import Chroma\n",
    "import numpy as np\n",
    "from sklearn.manifold import TSNE\n",
    "import plotly.graph_objects as go\n",
    "from langchain.memory import ConversationBufferMemory\n",
    "from langchain.chains import ConversationalRetrievalChain"
   ]
  },
  {
   "cell_type": "code",
   "execution_count": 4,
   "id": "8589d27d",
   "metadata": {},
   "outputs": [
    {
     "name": "stderr",
     "output_type": "stream",
     "text": [
      "<>:10: SyntaxWarning: invalid escape sequence '\\S'\n",
      "<>:10: SyntaxWarning: invalid escape sequence '\\S'\n",
      "C:\\Users\\aalperen.arda\\AppData\\Local\\Temp\\ipykernel_23812\\1693819381.py:10: SyntaxWarning: invalid escape sequence '\\S'\n",
      "  characters = len(re.findall('\\S', text))\n"
     ]
    },
    {
     "data": {
      "text/plain": [
       "'# fancy code\\n\\nimport re\\n\\nsayi = 0\\n\\nfor file in os.listdir(\"dataset\"):\\n    with open(f\\'dataset/{file}\\') as f:\\n        text = f.read()\\n        characters = len(re.findall(\\'\\\\S\\', text))\\n    sayi += characters\\n\\naverage = sayi / 281\\nprint(f\"The average number of these documents: {average}\")'"
      ]
     },
     "execution_count": 4,
     "metadata": {},
     "output_type": "execute_result"
    }
   ],
   "source": [
    "'''# fancy code\n",
    "\n",
    "import re\n",
    "\n",
    "sayi = 0\n",
    "\n",
    "for file in os.listdir(\"dataset\"):\n",
    "    with open(f'dataset/{file}') as f:\n",
    "        text = f.read()\n",
    "        characters = len(re.findall('\\S', text))\n",
    "    sayi += characters\n",
    "\n",
    "average = sayi / 281\n",
    "print(f\"The average number of these documents: {average}\")'''"
   ]
  },
  {
   "cell_type": "code",
   "execution_count": 5,
   "id": "55d78726",
   "metadata": {},
   "outputs": [],
   "source": [
    "MODEL = \"gpt-4o-mini\"\n",
    "db_name = \"C:/Users/aalperen.arda/Documents/GitHub/LLM-Biography-Analysis/main/json_output\""
   ]
  },
  {
   "cell_type": "code",
   "execution_count": 6,
   "id": "fe697abf",
   "metadata": {},
   "outputs": [],
   "source": [
    "text_loader_kwargs = {'encoding': 'utf-8'}\n",
    "documents = []\n",
    "\n",
    "for file in os.listdir(db_name):\n",
    "    path = os.path.join(db_name, file)\n",
    "    loader = TextLoader(path, **text_loader_kwargs)\n",
    "    docs = loader.load()\n",
    "    for doc in docs:\n",
    "        doc.metadata[\"doc_type\"] = os.path.splitext(file)[0]  # dosya adı\n",
    "        documents.append(doc)"
   ]
  },
  {
   "cell_type": "code",
   "execution_count": 7,
   "id": "d551494f",
   "metadata": {},
   "outputs": [],
   "source": [
    "text_splitter = CharacterTextSplitter(chunk_size=500, chunk_overlap=70)\n",
    "chunks = text_splitter.split_documents(documents)"
   ]
  },
  {
   "cell_type": "code",
   "execution_count": 8,
   "id": "e0e92752",
   "metadata": {},
   "outputs": [
    {
     "data": {
      "text/plain": [
       "281"
      ]
     },
     "execution_count": 8,
     "metadata": {},
     "output_type": "execute_result"
    }
   ],
   "source": [
    "len(chunks)"
   ]
  },
  {
   "cell_type": "code",
   "execution_count": 9,
   "id": "d3d495af",
   "metadata": {},
   "outputs": [
    {
     "name": "stdout",
     "output_type": "stream",
     "text": [
      "Vectorstore created with 281 documents\n"
     ]
    }
   ],
   "source": [
    "embeddings = OpenAIEmbeddings()\n",
    "\n",
    "vectorstore = Chroma.from_documents(documents=chunks, embedding=embeddings, persist_directory=db_name)\n",
    "print(f\"Vectorstore created with {vectorstore._collection.count()} documents\")"
   ]
  },
  {
   "cell_type": "code",
   "execution_count": 10,
   "id": "cb0428b7",
   "metadata": {},
   "outputs": [
    {
     "name": "stderr",
     "output_type": "stream",
     "text": [
      "C:\\Users\\aalperen.arda\\AppData\\Local\\Temp\\ipykernel_23812\\3183950975.py:5: LangChainDeprecationWarning: Please see the migration guide at: https://python.langchain.com/docs/versions/migrating_memory/\n",
      "  memory = ConversationBufferMemory(memory_key='chat_history', return_messages=True)\n"
     ]
    }
   ],
   "source": [
    "# create a new Chat with OpenAI\n",
    "llm = ChatOpenAI(temperature=0.7, model_name=MODEL)\n",
    "\n",
    "# set up the conversation memory for the chat\n",
    "memory = ConversationBufferMemory(memory_key='chat_history', return_messages=True)\n",
    "\n",
    "# the retriever is an abstraction over the VectorStore that will be used during RAG\n",
    "retriever = vectorstore.as_retriever()\n",
    "\n",
    "# putting it together: set up the conversation chain with the GPT 4o-mini LLM, the vector store and memory\n",
    "conversation_chain = ConversationalRetrievalChain.from_llm(llm=llm, retriever=retriever, memory=memory)"
   ]
  },
  {
   "cell_type": "code",
   "execution_count": 30,
   "id": "48d18c5c",
   "metadata": {},
   "outputs": [
    {
     "name": "stdout",
     "output_type": "stream",
     "text": [
      "İki kişi \"Alperen\" ismine sahip: Alperen Toprak ve Alperen.\n"
     ]
    }
   ],
   "source": [
    "soru = \"kaç tane alperen var o zaman söyle\"\n",
    "yanit = conversation_chain.invoke({\"question\": soru})\n",
    "print(yanit[\"answer\"])"
   ]
  },
  {
   "cell_type": "code",
   "execution_count": null,
   "id": "a7f54e49",
   "metadata": {},
   "outputs": [],
   "source": []
  }
 ],
 "metadata": {
  "kernelspec": {
   "display_name": "llm_doc_env",
   "language": "python",
   "name": "python3"
  },
  "language_info": {
   "codemirror_mode": {
    "name": "ipython",
    "version": 3
   },
   "file_extension": ".py",
   "mimetype": "text/x-python",
   "name": "python",
   "nbconvert_exporter": "python",
   "pygments_lexer": "ipython3",
   "version": "3.13.5"
  }
 },
 "nbformat": 4,
 "nbformat_minor": 5
}
