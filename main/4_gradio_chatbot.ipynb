{
 "cells": [
  {
   "cell_type": "code",
   "execution_count": 1,
   "id": "8092ad63",
   "metadata": {},
   "outputs": [
    {
     "name": "stderr",
     "output_type": "stream",
     "text": [
      "c:\\Users\\aalperen.arda\\AppData\\Local\\anaconda3\\envs\\llm_doc_env\\Lib\\site-packages\\tqdm\\auto.py:21: TqdmWarning: IProgress not found. Please update jupyter and ipywidgets. See https://ipywidgets.readthedocs.io/en/stable/user_install.html\n",
      "  from .autonotebook import tqdm as notebook_tqdm\n"
     ]
    }
   ],
   "source": [
    "import os\n",
    "from dotenv import load_dotenv\n",
    "from openai import OpenAI\n",
    "import gradio as gr\n",
    "from neo4j import GraphDatabase"
   ]
  },
  {
   "cell_type": "code",
   "execution_count": 2,
   "id": "07d824d4",
   "metadata": {},
   "outputs": [
    {
     "name": "stdout",
     "output_type": "stream",
     "text": [
      "OpenAI API Key exists and begins sk-proj-\n"
     ]
    }
   ],
   "source": [
    "load_dotenv(override=True)\n",
    "openai_api_key = os.getenv('OPENAI_API_KEY')\n",
    "\n",
    "if openai_api_key:\n",
    "    print(f\"OpenAI API Key exists and begins {openai_api_key[:8]}\")\n",
    "else:\n",
    "    print(\"OpenAI API Key not set\")"
   ]
  },
  {
   "cell_type": "code",
   "execution_count": 3,
   "id": "f9adfd95",
   "metadata": {},
   "outputs": [],
   "source": [
    "openai = OpenAI()\n",
    "MODEL = 'gpt-4o-mini'"
   ]
  },
  {
   "cell_type": "code",
   "execution_count": 4,
   "id": "63b5765e",
   "metadata": {},
   "outputs": [],
   "source": [
    "class Neo4jClient:\n",
    "    def __init__(self, uri, user, password, db=\"database\"):\n",
    "        self.driver = GraphDatabase.driver(uri, auth=(user, password))\n",
    "        self.db = db\n",
    "\n",
    "    def close(self):\n",
    "        self.driver.close()\n",
    "\n",
    "    def run_query(self, cypher_query):\n",
    "        with self.driver.session(database=self.db) as session:\n",
    "            result = session.run(cypher_query)\n",
    "            return [record.data() for record in result]"
   ]
  },
  {
   "cell_type": "code",
   "execution_count": 5,
   "id": "52d2f369",
   "metadata": {},
   "outputs": [],
   "source": [
    "query_generator_prompt = \"\"\"\n",
    "You are an AI assistant that only converts Turkish user requests into valid Cypher queries for querying a Neo4j graph database.\n",
    "\n",
    "If the user request is conversational (e.g., greetings, confirmations, acknowledgements like “tamam”, “teşekkürler”, “selam”, etc.), do NOT return a query.\n",
    "Instead, respond naturally in Turkish, like:\n",
    "- “Rica ederim, başka bir isteğiniz olursa yardımcı olmaktan memnuniyet duyarım.”\n",
    "- “Merhaba! Size nasıl yardımcı olabilirim?”\n",
    "- “Tamamdır, bekliyorum 🙂”\n",
    "\n",
    "If the user request is a query about people, connections, or database lookup — only then generate a valid Cypher query.\n",
    "\n",
    "DO NOT include explanations for the Cypher queries. Just the query.\n",
    "\n",
    "The database contains nodes of type `Person` with the following properties:\n",
    "{\n",
    "    \"ad\": \"Ahmet Doğan\",\n",
    "    \"dogum_yeri\": \"Kayseri\",\n",
    "    \"yas\": 37,\n",
    "    \"ilkokul\": \"Hacı Bektaş-ı Veli İlkokulu\",\n",
    "    \"ilkokul_yillari\": \"1994-2002\",\n",
    "    \"lise\": \"Ankara Fen Lisesi\",\n",
    "    \"lise_yillari\": \"2002-2006\",\n",
    "    \"universite\": \"Orta Doğu Teknik Üniversitesi (ODTÜ)\",\n",
    "    \"universite_yillari\": \"2006-2010\",\n",
    "    \"bolum\": \"Bilgisayar Mühendisliği\",\n",
    "    \"yuksek_lisans\": \"Koç Üniversitesi\",\n",
    "    \"yuksek_lisans_yillari\": \"2010-2012\",\n",
    "    \"doktora\": null,\n",
    "    \"doktora_yillari\": null,\n",
    "    \"calistigi_kurumlar\": [\"ASELSAN\", \"SAP Türkiye\", \"Artemis Yazılım\"],\n",
    "    \"calisma_yillari\": [\"2010-2014\", \"2014-2017\", \"2017-devam ediyor\"],\n",
    "    \"yasadigi_sehir\": \"İstanbul\",\n",
    "    \"hobiler\": [\"Tarihi roman okumak\", \"amatör drone fotoğrafçılığı\", \"bağlama çalmak\", \"açık kaynak yazılım projelerine katkıda bulunmak\"],\n",
    "    \"es\": \"Elif Doğan\",\n",
    "    \"cocuklar\": [\"Deniz Doğan\", \"Ada Doğan\"],\n",
    "    \"dosya_adi\": \"ahmet_dogan.md\"\n",
    "}\n",
    "\n",
    "Relationships between people use the `RELATED` relationship type.\n",
    "The meaning of each connection is stored in a `type` property (e.g., 'UNIVERSITE_ARKADASI', 'AYNI_MEMLEKETTEN').\n",
    "\n",
    "Examples:\n",
    "User: Ben Gülnur Yıldız, ASELSAN’da çalışan Ahmet Doğan adlı kişiye nasıl ulaşabilirim?\n",
    "Cypher query: MATCH p=(kaynak:Person {ad: 'Gülnur Yıldız'})-[r:RELATED*1..3]->(hedef:Person {ad: 'Ahmet Doğan'}) WHERE 'ASELSAN' IN hedef.calistigi_kurumlar RETURN p LIMIT 1\n",
    "\n",
    "User: Teşekkür ederim.\n",
    "Response: Rica ederim, başka bir isteğiniz olursa yardımcı olmaktan memnuniyet duyarım.\n",
    "\n",
    "User: Merhaba\n",
    "Response: Merhaba! Size nasıl yardımcı olabilirim?\n",
    "\n",
    "User: Ahmet Doğan ile aynı üniversitede okuyan kişileri göster.\n",
    "Cypher query: MATCH (p1:Person {ad: 'Ahmet Doğan'})<-[:RELATED]-(p2:Person) WHERE p1.universite = p2.universite RETURN DISTINCT p2\n",
    "\"\"\"\n",
    "\n",
    "\n",
    "\n",
    "\n",
    "\n",
    "result_interpreter_prompt = \"\"\n",
    "result_interpreter_prompt += \"You are a helpful assistant that receives structured data (such as Neo4j query results) and explains the findings in natural, fluent Turkish.\"\n",
    "\n",
    "result_interpreter_prompt += \" Your input will be a Neo4j response in the form of paths, nodes, or JSON structure that represent how people are connected.\"\n",
    "\n",
    "result_interpreter_prompt += \" Based on the graph data, summarize the path in Turkish and explain how the source person can reach the target person. Mention mutual schools, work places, or hometown connections if relevant.\"\n",
    "\n",
    "result_interpreter_prompt += \" Be concise, natural, and helpful. Do not invent or hallucinate any information. Base your answer strictly on the graph data.\"\n",
    "\n",
    "result_interpreter_prompt += \" Example input: A graph showing Gülnur Yıldız → Gül Yıldırım (üniversite arkadaşı) → Ali Türkmen (hemşehrisi) → Ahmet Doğan (lise arkadaşı, ASELSAN çalışanı).\"\n",
    "result_interpreter_prompt += \" Output: Elimdeki bilgilere göre Gül Yıldırım'ın üniversite arkadaşı olduğunu görüyorum. Gül Yıldırım'ın hemşehrisi Ali Türkmen var. Ali Türkmen'in lise arkadaşı ise Ahmet Doğan ve şu anda ASELSAN'da çalışıyor.\"\n",
    "\n",
    "result_interpreter_prompt += \" Important: Your output must always be in Turkish.\"\n",
    "\n"
   ]
  },
  {
   "cell_type": "code",
   "execution_count": 6,
   "id": "f35bfc84",
   "metadata": {},
   "outputs": [],
   "source": [
    "def chat_1(message):\n",
    "    messages = [\n",
    "        {\"role\": \"system\", \"content\": query_generator_prompt},\n",
    "        {\"role\": \"user\", \"content\": message}\n",
    "      ]\n",
    "    completion = openai.chat.completions.create(\n",
    "        model=MODEL,\n",
    "        messages=messages,\n",
    "    )\n",
    "    query = completion.choices[0].message.content\n",
    "    return query"
   ]
  },
  {
   "cell_type": "code",
   "execution_count": 7,
   "id": "01e21115",
   "metadata": {},
   "outputs": [
    {
     "data": {
      "text/plain": [
       "'cypher_query = chat_1(\"Ben Gülnur Yıldız, Ali Türkmen adlı kişiye nasıl ulaşabilirim?\")\\nneo4j_client = Neo4jClient(\\n    uri=\"bolt://localhost:7687\", \\n    user=\"neo4j\", \\n    password=\"alperen2239\",\\n    db=\"database\"\\n)\\n\\nresult = neo4j_client.run_query(cypher_query)\\nprint(result)'"
      ]
     },
     "execution_count": 7,
     "metadata": {},
     "output_type": "execute_result"
    }
   ],
   "source": [
    "'''cypher_query = chat_1(\"Ben Gülnur Yıldız, Ali Türkmen adlı kişiye nasıl ulaşabilirim?\")\n",
    "neo4j_client = Neo4jClient(\n",
    "    uri=\"bolt://localhost:7687\", \n",
    "    user=\"neo4j\", \n",
    "    password=\"alperen2239\",\n",
    "    db=\"database\"\n",
    ")\n",
    "\n",
    "result = neo4j_client.run_query(cypher_query)\n",
    "print(result)'''"
   ]
  },
  {
   "cell_type": "code",
   "execution_count": 8,
   "id": "4019bbe3",
   "metadata": {},
   "outputs": [],
   "source": [
    "def chat_2(history, user_message):\n",
    "    messages = [{\"role\": \"system\", \"content\": result_interpreter_prompt}] + history + [{\"role\": \"user\", \"content\": user_message}]\n",
    "\n",
    "    completion = openai.chat.completions.create(\n",
    "        model=MODEL,\n",
    "        messages=messages,\n",
    "    )\n",
    "    return completion.choices[0].message.content"
   ]
  },
  {
   "cell_type": "code",
   "execution_count": 9,
   "id": "932984ed",
   "metadata": {},
   "outputs": [],
   "source": [
    "def chat_pipeline(message, history):\n",
    "    cypher_query = chat_1(message)\n",
    "\n",
    "    if cypher_query.lower().startswith(\"cypher query:\"):\n",
    "        cypher_query = cypher_query.split(\":\", 1)[1].strip()\n",
    "\n",
    "    neo4j_client = Neo4jClient(\n",
    "        uri=\"bolt://localhost:7687\",\n",
    "        user=\"neo4j\",\n",
    "        password=\"alperen2239\",\n",
    "        db=\"database\"\n",
    "    )\n",
    "\n",
    "    result = neo4j_client.run_query(cypher_query)\n",
    "    neo4j_client.close()\n",
    "\n",
    "    user_message = f\"Original question: {message}\\nQuery Result: {result}\\nBased on this result, explain how the people are connected. Your explanation must be in Turkish.\"\n",
    "\n",
    "    response = chat_2(history, user_message)\n",
    "\n",
    "    return chat_2(history, response)\n"
   ]
  },
  {
   "cell_type": "code",
   "execution_count": 10,
   "id": "a6dd9845",
   "metadata": {},
   "outputs": [
    {
     "name": "stdout",
     "output_type": "stream",
     "text": [
      "* Running on local URL:  http://127.0.0.1:7860\n",
      "* To create a public link, set `share=True` in `launch()`.\n"
     ]
    },
    {
     "data": {
      "text/html": [
       "<div><iframe src=\"http://127.0.0.1:7860/\" width=\"100%\" height=\"500\" allow=\"autoplay; camera; microphone; clipboard-read; clipboard-write;\" frameborder=\"0\" allowfullscreen></iframe></div>"
      ],
      "text/plain": [
       "<IPython.core.display.HTML object>"
      ]
     },
     "metadata": {},
     "output_type": "display_data"
    },
    {
     "data": {
      "text/plain": []
     },
     "execution_count": 10,
     "metadata": {},
     "output_type": "execute_result"
    },
    {
     "name": "stderr",
     "output_type": "stream",
     "text": [
      "Received notification from DBMS server: {severity: WARNING} {code: Neo.ClientNotification.Statement.UnknownPropertyKeyWarning} {category: UNRECOGNIZED} {title: The provided property key is not in the database} {description: One of the property names in your query is not available in the database, make sure you didn't misspell it or that the label is available when you run this statement in your application (the missing property name is: yili)} {position: line: 1, column: 165, offset: 164} for query: \"MATCH (ben:Person {ad: 'Ali Türkmen'})-[r:RELATED]->(diger:Person) WHERE 'ASELSAN' IN diger.calistigi_kurumlar RETURN diger.yasadigi_sehir, duration.between(date(r.yili), date()).years AS calisma_yili\"\n"
     ]
    }
   ],
   "source": [
    "gr.ChatInterface(fn=chat_pipeline, type=\"messages\").launch()"
   ]
  },
  {
   "cell_type": "code",
   "execution_count": null,
   "id": "e95c95b0",
   "metadata": {},
   "outputs": [],
   "source": []
  }
 ],
 "metadata": {
  "kernelspec": {
   "display_name": "llm_doc_env",
   "language": "python",
   "name": "python3"
  },
  "language_info": {
   "codemirror_mode": {
    "name": "ipython",
    "version": 3
   },
   "file_extension": ".py",
   "mimetype": "text/x-python",
   "name": "python",
   "nbconvert_exporter": "python",
   "pygments_lexer": "ipython3",
   "version": "3.13.5"
  }
 },
 "nbformat": 4,
 "nbformat_minor": 5
}
