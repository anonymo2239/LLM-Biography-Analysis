{
 "cells": [
  {
   "cell_type": "code",
   "execution_count": 63,
   "id": "8092ad63",
   "metadata": {},
   "outputs": [],
   "source": [
    "import os\n",
    "from dotenv import load_dotenv\n",
    "from openai import OpenAI\n",
    "import gradio as gr\n",
    "from neo4j import GraphDatabase"
   ]
  },
  {
   "cell_type": "code",
   "execution_count": 64,
   "id": "07d824d4",
   "metadata": {},
   "outputs": [
    {
     "name": "stdout",
     "output_type": "stream",
     "text": [
      "OpenAI API Key exists and begins sk-proj-\n"
     ]
    }
   ],
   "source": [
    "load_dotenv(override=True)\n",
    "openai_api_key = os.getenv('OPENAI_API_KEY')\n",
    "\n",
    "if openai_api_key:\n",
    "    print(f\"OpenAI API Key exists and begins {openai_api_key[:8]}\")\n",
    "else:\n",
    "    print(\"OpenAI API Key not set\")"
   ]
  },
  {
   "cell_type": "code",
   "execution_count": 65,
   "id": "f9adfd95",
   "metadata": {},
   "outputs": [],
   "source": [
    "openai = OpenAI()\n",
    "MODEL = 'gpt-4o-mini'"
   ]
  },
  {
   "cell_type": "code",
   "execution_count": 66,
   "id": "63b5765e",
   "metadata": {},
   "outputs": [],
   "source": [
    "class Neo4jClient:\n",
    "    def __init__(self, uri, user, password, db=\"database\"):\n",
    "        self.driver = GraphDatabase.driver(uri, auth=(user, password))\n",
    "        self.db = db\n",
    "\n",
    "    def close(self):\n",
    "        self.driver.close()\n",
    "\n",
    "    def run_query(self, cypher_query):\n",
    "        with self.driver.session(database=self.db) as session:\n",
    "            result = session.run(cypher_query)\n",
    "            return [record.data() for record in result]"
   ]
  },
  {
   "cell_type": "code",
   "execution_count": 67,
   "id": "52d2f369",
   "metadata": {},
   "outputs": [],
   "source": [
    "query_generator_prompt = \"\"\"\n",
    "You are an AI assistant that only converts Turkish user requests into valid Cypher queries for querying a Neo4j graph database.\n",
    "\n",
    "If the user request is conversational (e.g., greetings, confirmations, acknowledgements like “tamam”, “teşekkürler”, “selam”, etc.), do NOT return a Cypher query.\n",
    "Instead, return this exact response: []\n",
    "\n",
    "If the user request is a query about people, connections, or database lookup — only then generate a valid Cypher query (e.g., MATCH...).\n",
    "\n",
    "DO NOT include explanations for the Cypher queries. Just the query.\n",
    "\n",
    "The database contains nodes of type `Person` with the following properties:\n",
    "{\n",
    "    \"ad\": \"Ahmet Doğan\",\n",
    "    \"dogum_yeri\": \"Kayseri\",\n",
    "    \"yas\": 37,\n",
    "    \"ilkokul\": \"Hacı Bektaş-ı Veli İlkokulu\",\n",
    "    \"ilkokul_yillari\": \"1994-2002\",\n",
    "    \"lise\": \"Ankara Fen Lisesi\",\n",
    "    \"lise_yillari\": \"2002-2006\",\n",
    "    \"universite\": \"Orta Doğu Teknik Üniversitesi (ODTÜ)\",\n",
    "    \"universite_yillari\": \"2006-2010\",\n",
    "    \"bolum\": \"Bilgisayar Mühendisliği\",\n",
    "    \"yuksek_lisans\": \"Koç Üniversitesi\",\n",
    "    \"yuksek_lisans_yillari\": \"2010-2012\",\n",
    "    \"doktora\": null,\n",
    "    \"doktora_yillari\": null,\n",
    "    \"calistigi_kurumlar\": [\"ASELSAN\", \"SAP Türkiye\", \"Artemis Yazılım\"],\n",
    "    \"calisma_yillari\": [\"2010-2014\", \"2014-2017\", \"2017-devam ediyor\"],\n",
    "    \"yasadigi_sehir\": \"İstanbul\",\n",
    "    \"hobiler\": [\"Tarihi roman okumak\", \"amatör drone fotoğrafçılığı\", \"bağlama çalmak\", \"açık kaynak yazılım projelerine katkıda bulunmak\"],\n",
    "    \"es\": \"Elif Doğan\",\n",
    "    \"cocuklar\": [\"Deniz Doğan\", \"Ada Doğan\"],\n",
    "    \"dosya_adi\": \"ahmet_dogan.md\"\n",
    "}\n",
    "\n",
    "Relationships between people use the `RELATED` relationship type.\n",
    "The meaning of each connection is stored in a `type` property (e.g., 'UNIVERSITE_ARKADASI', 'AYNI_MEMLEKETTEN').\n",
    "\n",
    "Relationships between people use the `RELATED` relationship type with a `type` property (e.g., 'UNIVERSITE_ARKADASI', 'AYNI_MEMLEKETTEN').\n",
    "\n",
    "Example:\n",
    "User: Ahmet Doğan ile aynı üniversitede okuyan kişileri göster.\n",
    "Output: MATCH (p1:Person {ad: 'Ahmet Doğan'})<-[:RELATED]-(p2:Person) WHERE p1.universite = p2.universite RETURN DISTINCT p2\n",
    "\n",
    "User: selam nasılsın?\n",
    "Output: []\n",
    "\"\"\"\n",
    "\n",
    "\n",
    "\n",
    "\n",
    "\n",
    "result_interpreter_prompt = \"\"\n",
    "result_interpreter_prompt += \"You are a helpful assistant that receives structured data (such as Neo4j query results) and explains the findings in natural, fluent Turkish.\"\n",
    "\n",
    "result_interpreter_prompt += \" Your input will be a Neo4j response in the form of paths, nodes, or JSON structure that represent how people are connected.\"\n",
    "\n",
    "result_interpreter_prompt += \" Based on the graph data, summarize the path in Turkish and explain how the source person can reach the target person. Mention mutual schools, work places, or hometown connections if relevant.\"\n",
    "\n",
    "result_interpreter_prompt += \" Be concise, natural, and helpful. Do not invent or hallucinate any information. Base your answer strictly on the graph data.\"\n",
    "\n",
    "result_interpreter_prompt += \" Example input: A graph showing Gülnur Yıldız → Gül Yıldırım (üniversite arkadaşı) → Ali Türkmen (hemşehrisi) → Ahmet Doğan (lise arkadaşı, ASELSAN çalışanı).\"\n",
    "result_interpreter_prompt += \" Output: Elimdeki bilgilere göre Gül Yıldırım'ın üniversite arkadaşı olduğunu görüyorum. Gül Yıldırım'ın hemşehrisi Ali Türkmen var. Ali Türkmen'in lise arkadaşı ise Ahmet Doğan ve şu anda ASELSAN'da çalışıyor.\"\n",
    "\n",
    "result_interpreter_prompt += \" Important: Your output must always be in Turkish.\"\n",
    "\n"
   ]
  },
  {
   "cell_type": "code",
   "execution_count": 68,
   "id": "f35bfc84",
   "metadata": {},
   "outputs": [],
   "source": [
    "def chat_1(message):\n",
    "    messages = [\n",
    "        {\"role\": \"system\", \"content\": query_generator_prompt},\n",
    "        {\"role\": \"user\", \"content\": message}\n",
    "    ]\n",
    "    completion = openai.chat.completions.create(\n",
    "        model=MODEL,\n",
    "        messages=messages,\n",
    "    )\n",
    "    query = completion.choices[0].message.content.strip()\n",
    "    return query"
   ]
  },
  {
   "cell_type": "code",
   "execution_count": 69,
   "id": "7a1df277",
   "metadata": {},
   "outputs": [
    {
     "name": "stdout",
     "output_type": "stream",
     "text": [
      "MATCH (p:Person) WHERE p.ad CONTAINS 'Alperen' RETURN p\n"
     ]
    }
   ],
   "source": [
    "print(chat_1(\"Tüm alperen leri getir\"))"
   ]
  },
  {
   "cell_type": "code",
   "execution_count": 70,
   "id": "01e21115",
   "metadata": {},
   "outputs": [
    {
     "name": "stdout",
     "output_type": "stream",
     "text": [
      "[{'p': {'yuksek_lisans_yillari': '2009-2011', 'ad': 'Alperen Aydın', 'hobiler': ['amatör fotoğrafçılık', 'doğa fotoğrafçılığı', 'sokak fotoğrafçılığı', 'uzun yürüyüşler', 'kampçılık', 'eski Türk filmlerini izlemek', 'mutfakta yeni yemek tarifleri denemek'], 'yasadigi_sehir': 'İstanbul', 'yas': 40, 'ilkokul': 'Mustafa Kemal İlkokulu', 'cocuklar': ['Deniz', 'Can'], 'yuksek_lisans': 'Bahçeşehir Üniversitesi', 'universite_yillari': '2003-2007', 'bolum': 'Halkla İlişkiler ve Tanıtım', 'dogum_yeri': 'İzmir', 'universite': 'Ege Üniversitesi', 'calistigi_kurumlar': ['Marka İletişim Ajansı', 'Trendyol', 'Turkcell', 'Hepsiburada', 'Dijital Köprü'], 'ilkokul_yillari': '1991-1996', 'lise_yillari': '1996-2003', 'name': 'Alperen Aydın', 'calisma_yillari': ['2007-2009', '2009-2013', '2013-2017', '2017-2021', '2021-devam ediyor'], 'lise': 'İzmir Bornova Anadolu Lisesi', 'dosya_adi': 'alperen_aydin.md'}}, {'p': {'yuksek_lisans_yillari': '2013-2015', 'ad': 'Alperen Baran', 'hobiler': ['koşu yapmak', 'doğa fotoğrafçılığı', 'finansal teknoloji trendlerini takip etmek', 'yerel maratonlara katılmak'], 'yasadigi_sehir': 'İstanbul', 'yas': 36, 'ilkokul': 'Kayseri Osman Düşüngel İlköğretim Okulu', 'cocuklar': ['Zeynep', 'Emre'], 'yuksek_lisans': 'Koç Üniversitesi', 'universite_yillari': '2008-2012', 'bolum': 'Ekonomi', 'dogum_yeri': 'Kayseri', 'universite': 'Boğaziçi Üniversitesi', 'calistigi_kurumlar': ['Yapı Kredi Bankası', 'Garanti BBVA'], 'ilkokul_yillari': '1996-2000', 'lise_yillari': '2000-2004', 'name': 'Alperen Baran', 'calisma_yillari': ['2012-2017', '2017-2020'], 'lise': 'Kayseri Nuh Mehmet Baldöktü Anadolu Lisesi', 'dosya_adi': 'alperen_baran.md'}}, {'p': {'yuksek_lisans_yillari': '2009-2011', 'ad': 'Alperen Uzun', 'hobiler': ['eski haritalar toplamak', 'şehirlerin az bilinen köşelerinde yürüyüşler yapmak', 'yerel pazarları gezerek kaybolan zanaatları keşfetmek', 'belgesel izlemek', 'Osmanlıca öğrenmek'], 'yasadigi_sehir': 'Ankara', 'yas': 39, 'ilkokul': 'Erciyes İlköğretim Okulu', 'cocuklar': ['Defne', 'Demir'], 'yuksek_lisans': 'Boğaziçi Üniversitesi', 'universite_yillari': '2005-2009', 'bolum': 'Şehir ve Bölge Planlama', 'dogum_yeri': 'Kayseri', 'universite': 'İstanbul Teknik Üniversitesi (İTÜ)', 'calistigi_kurumlar': ['Kültür ve Turizm Bakanlığı', 'Pera Müzesi', 'Koç Üniversitesi Vehbi Koç Ankara Araştırmaları Uygulama ve Araştırma Merkezi (VEKAM)'], 'ilkokul_yillari': '1993-2000', 'lise_yillari': '2000-2004', 'name': 'Alperen Uzun', 'calisma_yillari': ['2011-2014', '2014-2018', '2018-devam ediyor'], 'lise': 'Kayseri Fen Lisesi', 'dosya_adi': 'alperen_uzun.md'}}, {'p': {'yuksek_lisans_yillari': '2011-2013', 'ad': 'Alperen Yılmaz', 'hobiler': ['doğa yürüyüşleri yapmak', 'amatör fotoğrafçılık', 'yapay zeka ile dijital sanat eserleri üretmek', 'bilim kurgu romanı okumak', 'yeni teknoloji makaleleri okumak'], 'yasadigi_sehir': 'Ankara', 'yas': 36, 'ilkokul': 'Ankara Mimar Kemal İlköğretim Okulu', 'cocuklar': ['Ada', 'Can'], 'yuksek_lisans': 'Bilkent Üniversitesi', 'universite_yillari': '2007-2011', 'bolum': 'Bilgisayar Mühendisliği', 'dogum_yeri': 'Ankara', 'universite': 'Orta Doğu Teknik Üniversitesi (ODTÜ)', 'calistigi_kurumlar': ['VeriFabrikası Teknoloji A.Ş.', 'Garanti BBVA', 'sahibinden.com'], 'ilkokul_yillari': '1995-2002', 'lise_yillari': '2002-2006', 'name': 'Alperen Yılmaz', 'calisma_yillari': ['2013-2015', '2015-2019', '2019-devam ediyor'], 'lise': 'Ankara Fen Lisesi', 'dosya_adi': 'alperen_yilmaz.md'}}]\n"
     ]
    }
   ],
   "source": [
    "cypher_query = chat_1(\"Tüm alperen leri getir\")\n",
    "neo4j_client = Neo4jClient(\n",
    "    uri=\"bolt://localhost:7687\", \n",
    "    user=\"neo4j\", \n",
    "    password=\"alperen2239\",\n",
    "    db=\"database\"\n",
    ")\n",
    "\n",
    "if cypher_query.lower().__contains__(\"cypher query:\"):\n",
    "        cypher_query = cypher_query.split(\":\", 1)[1].strip()\n",
    "\n",
    "result = neo4j_client.run_query(cypher_query)\n",
    "print(result)"
   ]
  },
  {
   "cell_type": "code",
   "execution_count": 71,
   "id": "4019bbe3",
   "metadata": {},
   "outputs": [],
   "source": [
    "def chat_2(history, user_message, neo4j_result):\n",
    "    if neo4j_result == []:\n",
    "        # Grafik verisi yoksa, sadece kullanıcı mesajına tepki ver\n",
    "        messages = [{\"role\": \"system\", \"content\": \"Sen kullanıcıyla doğal, akıcı Türkçe'de sohbet eden bir asistansın. Kullanıcı Neo4j sorgusu değil, muhtemelen selamlaşma, sohbet veya başka bir gündelik şey yazmıştır. Bu mesajlara uygun yanıt ver.\"}]\n",
    "        messages += history + [{\"role\": \"user\", \"content\": user_message}]\n",
    "    else:\n",
    "        # Grafik verisi varsa, bunu yorumlayan sistem prompt kullanılır\n",
    "        messages = [{\"role\": \"system\", \"content\": result_interpreter_prompt}]\n",
    "        messages += history + [{\"role\": \"user\", \"content\": f\"Original question: {user_message}\\nQuery Result: {neo4j_result}\"}]\n",
    "\n",
    "    completion = openai.chat.completions.create(\n",
    "        model=MODEL,\n",
    "        messages=messages,\n",
    "    )\n",
    "    return completion.choices[0].message.content\n"
   ]
  },
  {
   "cell_type": "code",
   "execution_count": 72,
   "id": "932984ed",
   "metadata": {},
   "outputs": [],
   "source": [
    "def chat_pipeline(message, history):\n",
    "    cypher_query = chat_1(message)\n",
    "\n",
    "    if cypher_query.strip() == \"[]\":\n",
    "        return chat_2(history, message, [])\n",
    "\n",
    "    neo4j_client = Neo4jClient(\n",
    "        uri=\"bolt://localhost:7687\",\n",
    "        user=\"neo4j\",\n",
    "        password=\"alperen2239\",\n",
    "        db=\"database\"\n",
    "    )\n",
    "\n",
    "    result = neo4j_client.run_query(cypher_query)\n",
    "    neo4j_client.close()\n",
    "\n",
    "    response = chat_2(history, message, result)\n",
    "    return response\n"
   ]
  },
  {
   "cell_type": "code",
   "execution_count": 73,
   "id": "a6dd9845",
   "metadata": {},
   "outputs": [
    {
     "name": "stdout",
     "output_type": "stream",
     "text": [
      "* Running on local URL:  http://127.0.0.1:7867\n",
      "* To create a public link, set `share=True` in `launch()`.\n"
     ]
    },
    {
     "data": {
      "text/html": [
       "<div><iframe src=\"http://127.0.0.1:7867/\" width=\"100%\" height=\"500\" allow=\"autoplay; camera; microphone; clipboard-read; clipboard-write;\" frameborder=\"0\" allowfullscreen></iframe></div>"
      ],
      "text/plain": [
       "<IPython.core.display.HTML object>"
      ]
     },
     "metadata": {},
     "output_type": "display_data"
    },
    {
     "data": {
      "text/plain": []
     },
     "execution_count": 73,
     "metadata": {},
     "output_type": "execute_result"
    }
   ],
   "source": [
    "gr.ChatInterface(fn=chat_pipeline, type=\"messages\").launch()"
   ]
  },
  {
   "cell_type": "code",
   "execution_count": null,
   "id": "e95c95b0",
   "metadata": {},
   "outputs": [],
   "source": []
  }
 ],
 "metadata": {
  "kernelspec": {
   "display_name": "llm_doc_env",
   "language": "python",
   "name": "python3"
  },
  "language_info": {
   "codemirror_mode": {
    "name": "ipython",
    "version": 3
   },
   "file_extension": ".py",
   "mimetype": "text/x-python",
   "name": "python",
   "nbconvert_exporter": "python",
   "pygments_lexer": "ipython3",
   "version": "3.13.5"
  }
 },
 "nbformat": 4,
 "nbformat_minor": 5
}
